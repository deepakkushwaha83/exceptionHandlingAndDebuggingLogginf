{
 "cells": [
  {
   "cell_type": "markdown",
   "id": "2d650293-e4c6-43c2-aab1-95d5201a209d",
   "metadata": {},
   "source": [
    "# Files, exceptional handling, logging and memory management Questions"
   ]
  },
  {
   "cell_type": "markdown",
   "id": "90370734-bcac-45db-b80d-2087e90bf548",
   "metadata": {},
   "source": [
    "# Q-1 What is the difference between interpreted and compiled languages?\n",
    "Ans-> In compiled language, source code is transformed into machine code by compiler into byte code i.e. in binary code then it is ready for execution.\n",
    "     Compiled language is faster than interpreted language.\n",
    "     e.g. C,C++,C# etc.\n",
    "     In Interpreted Language,In interpreted languages, the source code is not compiled into machine code all at once. Instead, an interpreter reads the       code line by line and executes it directly. This means the program is processed during runtime.\n",
    "     e.g. Python,Javascript etc."
   ]
  },
  {
   "cell_type": "markdown",
   "id": "0c9c9bf2-68b8-4e5c-ae57-18ee1515c268",
   "metadata": {},
   "source": [
    "# Q-2 What is exception handling in Python?\n",
    "Ans->Exception handling in Python is a way to handle errors or exceptional situations that occur during the execution of a program, preventing the            program from crashing unexpectedly. Instead of letting the program stop abruptly when an error occurs, you can catch and handle the error                gracefully, allowing the program to continue running or at least provide meaningful feedback to the user."
   ]
  },
  {
   "cell_type": "markdown",
   "id": "bc559763-007b-4c07-ac94-2dede1f34c7a",
   "metadata": {},
   "source": [
    "# Q-3  What is the purpose of the finally block in exception handling?\n",
    "Ans->The finally block in exception handling is used to define code that must be executed no matter what—whether an exception occurred or not during the try block."
   ]
  },
  {
   "cell_type": "markdown",
   "id": "42d71507-0d88-468c-ac95-ee6c5dc32e20",
   "metadata": {},
   "source": [
    "# Q-4  What is logging in Python?\n",
    "Ans->Logging in Python is a way to track and record events that happen while your program is running. It helps you monitor the behavior of your application, debug issues, and keep a record of important events. Python's built-in logging module provides a flexible framework for adding log messages throughout your code."
   ]
  },
  {
   "cell_type": "markdown",
   "id": "d75dea96-6607-4813-bd13-83b3036ed73c",
   "metadata": {},
   "source": [
    "# Q-5 What is the significance of the __del__ method in Python?\n",
    "Ans->The __del__ method in Python is a special method used to define the cleanup behavior for an object before it is destroyed (i.e., when it is about to be garbage collected). It's often referred to as a destructor, and it allows you to release resources or perform necessary clean-up tasks when an object is no longer needed."
   ]
  },
  {
   "cell_type": "markdown",
   "id": "ce77e71c-a54f-4c54-aecb-8c2a5a44ca11",
   "metadata": {},
   "source": [
    "# Q-6 What is the difference between import and from ... import in Python?\n",
    "Ans->When you use import, you load the entire module into your program, and you access its functions, classes, or variables using the module name as a        prefix.\n",
    "    When you use from ... import, you import specific functions, classes, or variables from a module, and you can access them directly, without needing     to use the module name."
   ]
  },
  {
   "cell_type": "markdown",
   "id": "f1e62be3-f37b-4fb9-bcd2-299e200126ee",
   "metadata": {},
   "source": [
    "# Q-7 How can you handle multiple exceptions in Python?\n",
    "Ans->There are different way to handle multiple exceptions:-\n",
    "    i)Multiple except blocks: Handle each exception separately.\n",
    "    ii)Single except block for multiple exceptions: Handle multiple exceptions the same way using a tuple.\n",
    "    iii)else block: Execute code when no exceptions occur.\n",
    "    iv)finally block: Always run code, regardless of whether an exception occurred or not.\n",
    "    v)Catch-all exception: Catch any exception using except Exception"
   ]
  },
  {
   "cell_type": "markdown",
   "id": "45de6dee-f16f-41dd-a175-054d52cf0415",
   "metadata": {},
   "source": [
    "# Q-8 What is the purpose of the with statement when handling files in Python?\n",
    "Ans->The with statement in Python is used for resource management, such as working with files, and it helps ensure that resources are properly acquired and released. When handling files, the primary purpose of the with statement is to automatically close the file after the block of code is executed, even if an exception occurs. This is particularly useful to avoid potential issues like leaving files open or not releasing resources properly."
   ]
  },
  {
   "cell_type": "markdown",
   "id": "075102ae-27f1-4bbe-8934-51e78a4ede27",
   "metadata": {},
   "source": [
    "# Q-9 What is the difference between multithreading and multiprocessing?\n",
    "Ans->In multithreading, a single process (a program) spawns multiple threads, and each thread executes part of the program concurrently. Threads share the same memory space and resources, which makes communication between them easier but also introduces risks like race conditions.\n",
    "    In multiprocessing, separate processes are created, each with its own memory space. These processes can run independently and in parallel on multiple CPU cores, making it ideal for CPU-bound tasks."
   ]
  },
  {
   "cell_type": "markdown",
   "id": "55e3d9c6-d1ec-4582-89f6-3975c6a7eba3",
   "metadata": {},
   "source": [
    "# Q-10 What are the advantages of using logging in a program?\n",
    "Ans->Using logging in your program provides several advantages, including:\n",
    "        -Improved debugging and traceability.\n",
    "        -Flexible control over logging output (e.g., log levels, log files).\n",
    "        -Better resource management (automatic log rotation).\n",
    "        -Easy integration with monitoring systems.\n",
    "        -Improved program maintainability by separating concerns."
   ]
  },
  {
   "cell_type": "markdown",
   "id": "18949e0c-6dd2-4c6d-b6bc-4b61d53a484a",
   "metadata": {},
   "source": [
    "# Q-11 What is memory management in Python?\n",
    "Ans->Memory management in Python refers to the process of efficiently allocating, using, and deallocating memory for variables, objects, and other resources within a Python program. Python handles memory management automatically, but it's helpful to understand how it works to optimize performance and prevent issues like memory leaks."
   ]
  },
  {
   "cell_type": "markdown",
   "id": "2e88d471-155f-4273-9c07-537e9f74e0e4",
   "metadata": {},
   "source": [
    "# Q-12 What are the basic steps involved in exception handling in Python?\n",
    "Ans->Exception handling in Python involves managing errors that might occur during the execution of a program. The key goal is to handle these errors gracefully, allowing the program to continue running or fail in a controlled way, rather than crashing unexpectedly.\n",
    "The basic steps involved in exception handling in Python are:\n",
    "    i)try block\n",
    "    ii)except block\n",
    "    iii)else block\n",
    "    iv)finally block"
   ]
  },
  {
   "cell_type": "markdown",
   "id": "eade5ef2-10ba-4d94-8024-0fe63fadc6c6",
   "metadata": {},
   "source": [
    "# Q-13 Why is memory management important in Python?\n",
    "Ans->Memory management in Python is crucial for maintaining performance, stability, and efficiency. While Python provides automatic memory management through garbage collection, understanding how memory works, choosing the right data structures, and using profiling tools to monitor memory usage can significantly improve your program's behavior and prevent potential issues."
   ]
  },
  {
   "cell_type": "markdown",
   "id": "c4b31627-dbe9-4fab-ab6e-4bc319d7bd96",
   "metadata": {},
   "source": [
    "# Q-14  What is the role of try and except in exception handling?\n",
    "Ans->The try block attempts to run code that could cause an exception.\n",
    "The except block catches and handles those exceptions, preventing the program from crashing and allowing you to control the flow and response to errors."
   ]
  },
  {
   "cell_type": "markdown",
   "id": "e5c4861d-d84e-47b3-9891-26d113e4d317",
   "metadata": {},
   "source": [
    "# Q-15 How does Python's garbage collection system work?\n",
    "Ans->Python's garbage collection (GC) system is responsible for automatically managing memory by reclaiming the memory used by objects that are no longer needed, preventing memory leaks, and ensuring efficient use of memory during the execution of programs. Python uses a combination of reference counting and cyclic garbage collection to handle memory management."
   ]
  },
  {
   "cell_type": "markdown",
   "id": "e75e7805-9bc5-40a3-8d51-e1e62b9c6e60",
   "metadata": {},
   "source": [
    "# Q-16 What is the purpose of the else block in exception handling?\n",
    "Ans->The else block in Python's exception handling system serves an important purpose: it allows you to run code only if no exceptions were raised in the try block. It gives you a way to separate the \"normal\" execution flow (when no errors occur) from the \"error handling\" flow (when an exception is raised)."
   ]
  },
  {
   "cell_type": "markdown",
   "id": "ace4104a-7ec9-4f78-9841-50b506d340e3",
   "metadata": {},
   "source": [
    "# Q-17 What are the common logging levels in Python?\n",
    "Ans->In Python, the logging module provides several logging levels to help developers categorize and filter log messages based on their severity. These levels are used to determine which messages get logged and help with debugging and monitoring. Here are the common logging levels in Python,\n",
    "    i)Critical\n",
    "    ii)error\n",
    "    iii)warning\n",
    "    iv)info\n",
    "    v)debug"
   ]
  },
  {
   "cell_type": "markdown",
   "id": "539167d3-dfab-42db-92cb-88baab6fbf38",
   "metadata": {},
   "source": [
    "# Q-18 What is the difference between os.fork() and multiprocessing in Python?\n",
    "Ans->os.fork():The os.fork() function is a low-level system call that creates a child process by duplicating the parent process. It's a feature available primarily on Unix-like systems (Linux, macOS, etc.), and not available on Windows.\n",
    "    Multiprocessing:The multiprocessing module provides a higher-level and more Pythonic way of creating and managing multiple processes. It is available on all platforms (Windows, Linux, macOS) and abstracts away the complexity of creating and managing child processes directly."
   ]
  },
  {
   "cell_type": "markdown",
   "id": "e782463d-07d4-4522-96ec-ed67e752dfd8",
   "metadata": {},
   "source": [
    "# Q-19 What is the importance of closing a file in Python?\n",
    "Ans->Closing a file in Python is essential to release system resources, ensure data is saved, prevent file corruption, and allow other processes to access the file.While you can manually close a file using file.close(), the best practice is to use the with statement to automatically manage file closing."
   ]
  },
  {
   "cell_type": "markdown",
   "id": "642f278a-cb15-4bd2-a408-9a8fdc2dbf1a",
   "metadata": {},
   "source": [
    "# Q-20 What is the difference between file.read() and file.readline() in Python?\n",
    "Ans->file.read():Reads the entire content of the file in a single call\n",
    "    file.readline():Reads one line from the file at a time."
   ]
  },
  {
   "cell_type": "markdown",
   "id": "2089d412-a2d3-43ca-b2bf-0ce17e535856",
   "metadata": {},
   "source": [
    "# Q-21 What is the logging module in Python used for?\n",
    "Ans->The logging module in Python is used for logging messages from your program, making it easier to track events, errors, warnings, and other information. It provides a flexible framework for adding logging to your application, which is invaluable for debugging, monitoring, and troubleshooting.\n",
    "Using logging allows developers to record important information about the execution flow, which can later be reviewed to understand the behavior of the application or to investigate issues."
   ]
  },
  {
   "cell_type": "markdown",
   "id": "79d00614-ca39-4ff1-b531-69de31dd3665",
   "metadata": {},
   "source": [
    "# Q-22 What is the os module in Python used for in file handling?\n",
    "Ans->The os module in Python provides a way to interact with the operating system and perform tasks related to file handling, such as creating, deleting, and manipulating files and directories. It's a versatile module that allows you to access and manage the underlying file system, making it useful for many common file and directory operations."
   ]
  },
  {
   "cell_type": "markdown",
   "id": "36387e2f-0bc4-4e8a-a8f8-f5cc46258706",
   "metadata": {},
   "source": [
    "# Q-23  What are the challenges associated with memory management in Python?\n",
    "Ans->Memory management in Python is generally handled automatically by the Python memory manager and garbage collector. However, there are several challenges and complexities associated with memory management that developers should be aware of. These challenges can impact performance, memory usage, and even cause issues such as memory leaks or inefficient resource usage if not managed properly.\n",
    "Here are the key challenges associated with memory management in Python:\n",
    "    i)Automatic Garbage Collection and Memory Leaks\n",
    "    ii)Overhead of Memory Allocation\n",
    "    iii)Memory Consumption of Large Data Structures\n",
    "    iv)Memory Usage in Immutable Data Structure"
   ]
  },
  {
   "cell_type": "markdown",
   "id": "ced678b6-1cfd-4a58-bdc7-44568070bc8d",
   "metadata": {},
   "source": [
    "# Q-24 How do you raise an exception manually in Python?\n",
    "Ans->In Python, you can raise an exception manually using the raise statement. This is typically done when you want to signal that something has gone wrong in your program, or when you want to enforce certain conditions or logic that requires handling an exception.\n",
    "Syntax for Raising an Exception:\n",
    "    raise ExceptionType(\"Error message\")"
   ]
  },
  {
   "cell_type": "markdown",
   "id": "981df129-5b7a-4194-a4d1-96bdfa5cfd63",
   "metadata": {},
   "source": [
    "# Q-25 Why is it important to use multithreading in certain applications?\n",
    "Ans->Multithreading is important for applications that need to handle multiple tasks concurrently, such as improving responsiveness in UI applications, efficiently handling I/O-bound tasks, enabling parallelism on multi-core processors, and ensuring real-time processing. It is particularly useful for making programs more efficient, scalable, and responsive while allowing long-running or blocking tasks to occur in the background without interrupting the main flow of the program."
   ]
  },
  {
   "cell_type": "markdown",
   "id": "18c879b9-edbf-465a-8b8a-91e34a641ef3",
   "metadata": {},
   "source": [
    "Practical questions and their code"
   ]
  },
  {
   "cell_type": "code",
   "execution_count": null,
   "id": "9e4c9e1a-1786-4f8f-87c2-eb3dad18d269",
   "metadata": {},
   "outputs": [],
   "source": [
    "# Q-1 How can you open a file for writing in Python and write a string to it?\n",
    "\n",
    "with open('stringFile.txt','w') as f:\n",
    "    f.write(\"Hello,World\")"
   ]
  },
  {
   "cell_type": "code",
   "execution_count": null,
   "id": "8a69ef37-b6fb-448c-85aa-95497f3b0cb4",
   "metadata": {},
   "outputs": [],
   "source": [
    "# Q-2 Write a Python program to read the contents of a file and print each line\n",
    "\n",
    "with open('stringFile.txt','r') as f:\n",
    "    line = f.readlines()\n",
    "    print(line)"
   ]
  },
  {
   "cell_type": "code",
   "execution_count": null,
   "id": "4eff60d6-d94c-4610-9275-b6052c92183d",
   "metadata": {},
   "outputs": [],
   "source": [
    "# Q-3 How would you handle a case where the file doesn't exist while trying to open it for reading?\n",
    "\n",
    "try:\n",
    "    with open(\"example.txt\",\"r\") as f:\n",
    "        line = f.read()\n",
    "        print(line)\n",
    "except FileNotFoundError as e:\n",
    "    print('File Cannot Be Open as error occurred named:',e )"
   ]
  },
  {
   "cell_type": "code",
   "execution_count": null,
   "id": "0dc54631-e28c-4a0a-9a18-ab3435bee3e9",
   "metadata": {},
   "outputs": [],
   "source": [
    "# Q-4 Write a Python script that reads from one file and writes its content to another file.\n",
    "\n",
    "def copy_file_content(source_file_path, destination_file_path):\n",
    "    try:\n",
    "        # Open the source file in read mode\n",
    "        with open(source_file_path, 'r') as source_file:\n",
    "            content = source_file.read()  # Read the entire content of the source file\n",
    "        \n",
    "        # Open the destination file in write mode\n",
    "        with open(destination_file_path, 'w') as destination_file:\n",
    "            destination_file.write(content)  # Write the content to the destination file\n",
    "        \n",
    "        print(f\"Content has been copied from '{source_file_path}' to '{destination_file_path}'.\")\n",
    "    \n",
    "    except FileNotFoundError:\n",
    "        print(f\"Error: The source file '{source_file_path}' does not exist.\")\n",
    "    except PermissionError:\n",
    "        print(f\"Error: You do not have permission to read or write the files.\")\n",
    "    except Exception as e:\n",
    "        print(f\"An unexpected error occurred: {e}\")\n",
    "\n",
    "# Example usage:\n",
    "source_file_path = 'source.txt'  # Replace with your source file path\n",
    "destination_file_path = 'destination.txt'  # Replace with your destination file path\n",
    "copy_file_content(source_file_path, destination_file_path)\n"
   ]
  },
  {
   "cell_type": "code",
   "execution_count": null,
   "id": "ac7a8c17-02fb-4e6c-b65d-22961389385f",
   "metadata": {},
   "outputs": [],
   "source": [
    "# Q-5 How would you catch and handle division by zero error in Python\n",
    "try:\n",
    "    10/0\n",
    "except ZeroDivisionError as e:\n",
    "    print(\"There is a ZeroDivisionError occured :\",e)"
   ]
  },
  {
   "cell_type": "code",
   "execution_count": null,
   "id": "7ec5f6ef-aa5f-4494-8f86-d0459d94835d",
   "metadata": {},
   "outputs": [],
   "source": [
    "# Q-6 Write a Python program that logs an error message to a log file when a division by zero exception occurs\n",
    "\n",
    "import logging\n",
    "\n",
    "logging.basicConfig(filename='error_log.log', level=logging.ERROR,\n",
    "                    format='%(asctime)s - %(levelname)s - %(message)s')\n",
    "\n",
    "def divide_numbers(a, b):\n",
    "    try:\n",
    "        result = a / b\n",
    "        return result\n",
    "    except ZeroDivisionError as e:\n",
    "        logging.error(f\"Attempted division by zero. Error: {e}\")\n",
    "        return None\n",
    "num1 = 10\n",
    "num2 = 0\n",
    "\n",
    "result = divide_numbers(num1, num2)\n",
    "if result is None:\n",
    "    print(\"An error occurred. Check the log file for details.\")\n",
    "else:\n",
    "    print(f\"The result is: {result}\")\n"
   ]
  },
  {
   "cell_type": "code",
   "execution_count": null,
   "id": "d010b501-1921-454b-99e6-da472f06dcd2",
   "metadata": {},
   "outputs": [],
   "source": [
    "# Q-7 How do you log information at different levels (INFO, ERROR, WARNING) in Python using the logging module?\n",
    "\n",
    "import logging\n",
    "\n",
    "\n",
    "logging.basicConfig(filename='app_log.log', level=logging.DEBUG,  # Log all levels DEBUG and above\n",
    "                    format='%(asctime)s - %(levelname)s - %(message)s')\n",
    "\n",
    "def log_examples():\n",
    "    # Log messages at different levels\n",
    "    logging.debug(\"This is a debug message.\")\n",
    "    logging.info(\"This is an info message.\")\n",
    "    logging.warning(\"This is a warning message.\")\n",
    "    logging.error(\"This is an error message.\")\n",
    "    logging.critical(\"This is a critical error message.\")\n",
    "log_examples()"
   ]
  },
  {
   "cell_type": "code",
   "execution_count": null,
   "id": "5e365a2c-f505-4e25-aeba-9c62e6604684",
   "metadata": {},
   "outputs": [],
   "source": [
    "# Q-8 Write a program to handle a file opening error using exception handling.\n",
    "\n",
    "try:\n",
    "    with open(\"read.txt\",\"r\") as f:\n",
    "        content = f.read()\n",
    "        print(content)\n",
    "except FileNotFoundError as e:\n",
    "    print(f\"File Not Found error: {e}\")\n",
    "except IOError as e:\n",
    "    print(f\"There is a problem in opening the file:{e}\")"
   ]
  },
  {
   "cell_type": "code",
   "execution_count": null,
   "id": "f3a7fd9d-4161-4f5f-bf29-08ed36f456b9",
   "metadata": {},
   "outputs": [],
   "source": [
    "# Q-9 How can you read a file line by line and store its content in a list in Python?\n",
    "\n",
    "content_list = []\n",
    "\n",
    "try:\n",
    "    with open(\"stringFile.txt\",\"r\") as f:\n",
    "        for i in f:\n",
    "            content_list.append(i)\n",
    "    print(content_list)\n",
    "\n",
    "except FileNotFoundError as e:\n",
    "    print(\"File Not Found Error\")\n",
    "    print(f\"{e}\")"
   ]
  },
  {
   "cell_type": "code",
   "execution_count": null,
   "id": "475340c8-1b6e-4bd4-b0a4-b5f024ba7810",
   "metadata": {},
   "outputs": [],
   "source": [
    "# Q-10 How can you append data to an existing file in Python?\n",
    "\n",
    "with open(\"stringFile.txt\",\"a\") as f:\n",
    "    f.write(\"\\nHello World 2\")\n",
    "    f.write(\"\\nHello World 3\")\n",
    "    print(\"File appended successfully.\")"
   ]
  },
  {
   "cell_type": "code",
   "execution_count": null,
   "id": "4794f8ce-fb94-4e7e-87e6-b3d3c348da6a",
   "metadata": {},
   "outputs": [],
   "source": [
    "# Q-11 Write a Python program that uses a try-except block to handle an error when attempting to access a dictionary key that doesn't exist\n",
    "\n",
    "my_dict = {'name':'Deepak','Age':20}\n",
    "try:\n",
    "    value = my_dict['address']\n",
    "    print(value)\n",
    "except Exception as e:\n",
    "    print(\"Dictionary data that you are looking for doesn't exist\")\n",
    "    print(f\"Error Details:{e}\")"
   ]
  },
  {
   "cell_type": "code",
   "execution_count": null,
   "id": "6d2b716f-7c18-4337-bc53-9b9f0b6ee25c",
   "metadata": {},
   "outputs": [],
   "source": [
    "# Q-12 Write a program that demonstrates using multiple except blocks to handle different types of exceptions\n",
    "\n",
    "try:\n",
    "    10/'3'\n",
    "except (TypeError,ZeroDivisionError) as e:\n",
    "    print(f\"Division doen't occurred due to :{e}\")"
   ]
  },
  {
   "cell_type": "code",
   "execution_count": null,
   "id": "024821b9-aa17-41d9-8b23-8abf0b7cd0b3",
   "metadata": {},
   "outputs": [],
   "source": [
    "# Q-13 How would you check if a file exists before attempting to read it in Python?\n",
    "\n",
    "import os\n",
    "\n",
    "file_path = 'example.txt'\n",
    "if os.path.exists(file_path):\n",
    "    try:\n",
    "        # Open the file and read its content\n",
    "        with open(file_path, 'r') as file:\n",
    "            content = file.read()\n",
    "            print(content)\n",
    "    except Exception as e:\n",
    "        print(f\"Error reading file: {e}\")\n",
    "else:\n",
    "    print(f\"The file '{file_path}' does not exist.\")"
   ]
  },
  {
   "cell_type": "code",
   "execution_count": 2,
   "id": "0600c9a5-1495-4898-b1d6-2defecb3ea0a",
   "metadata": {},
   "outputs": [
    {
     "name": "stderr",
     "output_type": "stream",
     "text": [
      "2025-01-28 11:47:04,766 - INFO - This is an informational message.\n",
      "2025-01-28 11:47:04,766 - WARNING - This is a warning message.\n",
      "2025-01-28 11:47:04,766 - ERROR - This is an error message.\n",
      "2025-01-28 11:47:04,766 - CRITICAL - This is a critical error message.\n",
      "2025-01-28 11:47:04,766 - DEBUG - This is a debug message.\n",
      "2025-01-28 11:47:04,766 - ERROR - An error occurred: division by zero\n"
     ]
    }
   ],
   "source": [
    "# Q-14 Write a program that uses the logging module to log both informational and error messages.\n",
    "\n",
    "import logging\n",
    "\n",
    "logging.basicConfig(level=logging.DEBUG, format='%(asctime)s - %(levelname)s - %(message)s')\n",
    "logging.info('This is an informational message.')\n",
    "\n",
    "logging.warning('This is a warning message.')\n",
    "\n",
    "logging.error('This is an error message.')\n",
    "logging.critical('This is a critical error message.')\n",
    "logging.debug('This is a debug message.')\n",
    "\n",
    "try:\n",
    "    x = 1 / 0\n",
    "except ZeroDivisionError as e:\n",
    "    logging.error(f\"An error occurred: {e}\")\n"
   ]
  },
  {
   "cell_type": "code",
   "execution_count": 4,
   "id": "2514aaea-da10-4e2a-9d4d-5b3e06f72bab",
   "metadata": {},
   "outputs": [
    {
     "name": "stdout",
     "output_type": "stream",
     "text": [
      "Error: The file 'example.txt' was not found.\n"
     ]
    }
   ],
   "source": [
    "# Q-15 Write a Python program that prints the content of a file and handles the case when the file is empty.\n",
    "\n",
    "def print_file_content(file_path):\n",
    "    try:\n",
    "        # Open the file in read mode\n",
    "        with open(file_path, 'r') as file:\n",
    "            content = file.read()\n",
    "            \n",
    "            # Check if the file is empty\n",
    "            if not content:\n",
    "                print(\"The file is empty.\")\n",
    "            else:\n",
    "                print(\"File content:\")\n",
    "                print(content)\n",
    "    \n",
    "    except FileNotFoundError:\n",
    "        print(f\"Error: The file '{file_path}' was not found.\")\n",
    "    except IOError as e:\n",
    "        print(f\"Error reading the file: {e}\")\n",
    "\n",
    "# Specify the file path\n",
    "file_path = 'example.txt'  # Replace with your actual file path\n",
    "\n",
    "# Call the function to print file content\n",
    "print_file_content(file_path)\n"
   ]
  },
  {
   "cell_type": "code",
   "execution_count": 36,
   "id": "b9b05cc7-c172-4221-ba0e-3a64d68756a9",
   "metadata": {},
   "outputs": [
    {
     "ename": "NameError",
     "evalue": "name 'pip' is not defined",
     "output_type": "error",
     "traceback": [
      "\u001b[1;31m---------------------------------------------------------------------------\u001b[0m",
      "\u001b[1;31mNameError\u001b[0m                                 Traceback (most recent call last)",
      "Cell \u001b[1;32mIn[36], line 3\u001b[0m\n\u001b[0;32m      1\u001b[0m \u001b[38;5;66;03m# Q-16 Demonstrate how to use memory profiling to check the memory usage of a small program.\u001b[39;00m\n\u001b[1;32m----> 3\u001b[0m pip \u001b[38;5;129;01min\u001b[39;00m memory_profiler\n\u001b[0;32m      5\u001b[0m \u001b[38;5;28;01mfrom\u001b[39;00m \u001b[38;5;21;01mmemory_profiler\u001b[39;00m \u001b[38;5;28;01mimport\u001b[39;00m profile\n\u001b[0;32m      7\u001b[0m \u001b[38;5;66;03m# Decorator to profile memory usage\u001b[39;00m\n",
      "\u001b[1;31mNameError\u001b[0m: name 'pip' is not defined"
     ]
    }
   ],
   "source": [
    "# Q-16 Demonstrate how to use memory profiling to check the memory usage of a small program.\n",
    "\n",
    "pip in memory_profiler\n",
    "\n",
    "from memory_profiler import profile\n",
    "\n",
    "# Decorator to profile memory usage\n",
    "@profile\n",
    "def my_function():\n",
    "    a = [1] * (10**6)  # Creating a list with a million integers\n",
    "    b = [2] * (2 * 10**7)  # Creating a larger list\n",
    "    del a  # Removing the first list to see memory release\n",
    "    return b\n",
    "\n",
    "if __name__ == \"__main__\":\n",
    "    my_function()\n"
   ]
  },
  {
   "cell_type": "code",
   "execution_count": 26,
   "id": "c0805626-2f69-4d6d-b88e-6b1289f252ac",
   "metadata": {},
   "outputs": [
    {
     "name": "stdout",
     "output_type": "stream",
     "text": [
      "Numbers have been written to 'numbers.txt'\n"
     ]
    }
   ],
   "source": [
    "# Q-17 Write a Python program to create and write a list of numbers to a file, one number per line.\n",
    "\n",
    "# Create a list of numbers\n",
    "numbers = [1, 2, 3, 4, 5, 6, 7, 8, 9, 10]\n",
    "\n",
    "# Open a file in write mode (creates the file if it doesn't exist)\n",
    "with open('numbers.txt', 'w') as file:\n",
    "    # Write each number to the file, one per line\n",
    "    for number in numbers:\n",
    "        file.write(f\"{number}\\n\")\n",
    "\n",
    "print(\"Numbers have been written to 'numbers.txt'\")\n"
   ]
  },
  {
   "cell_type": "code",
   "execution_count": null,
   "id": "33bec053-9ba7-4187-a23c-ecca624a49d9",
   "metadata": {},
   "outputs": [],
   "source": [
    "# Q-18 How would you implement a basic logging setup that logs to a file with rotation after 1MB?\n",
    "\n",
    "import logging\n",
    "from logging.handlers import RotatingFileHandler\n",
    "\n",
    "# Set up logging configuration\n",
    "log_file = 'app.log'\n",
    "max_log_size = 1 * 1024 * 1024  # 1MB\n",
    "backup_count = 3  # Keep 3 backup copies of the log file\n",
    "\n",
    "# Create a rotating file handler\n",
    "handler = RotatingFileHandler(log_file, maxBytes=max_log_size, backupCount=backup_count)\n",
    "\n",
    "# Set the logging level and format\n",
    "formatter = logging.Formatter('%(asctime)s - %(levelname)s - %(message)s')\n",
    "handler.setFormatter(formatter)\n",
    "\n",
    "# Get the logger and set the logging level\n",
    "logger = logging.getLogger()\n",
    "logger.setLevel(logging.DEBUG)\n",
    "\n",
    "# Add the handler to the logger\n",
    "logger.addHandler(handler)\n",
    "\n",
    "# Example log messages\n",
    "logger.debug(\"This is a debug message.\")\n",
    "logger.info(\"This is an info message.\")\n",
    "logger.warning(\"This is a warning message.\")\n",
    "logger.error(\"This is an error message.\")\n",
    "logger.critical(\"This is a critical message.\")\n",
    "\n",
    "print(\"Logging setup complete. Check the 'app.log' file.\")\n"
   ]
  },
  {
   "cell_type": "code",
   "execution_count": null,
   "id": "b4b83483-5897-49da-9d8e-b18539096d95",
   "metadata": {},
   "outputs": [],
   "source": [
    "# Q-19 Write a program that handles both IndexError and KeyError using a try-except block.\n",
    "\n",
    "def handle_errors():\n",
    "    # Example list and dictionary for demonstration\n",
    "    my_list = [1, 2, 3]\n",
    "    my_dict = {\"a\": 1, \"b\": 2, \"c\": 3}\n",
    "\n",
    "    try:\n",
    "        # Trying to access an invalid index in the list (IndexError)\n",
    "        print(\"Accessing list element:\", my_list[5])\n",
    "\n",
    "        # Trying to access a key that doesn't exist in the dictionary (KeyError)\n",
    "        print(\"Accessing dictionary element:\", my_dict[\"d\"])\n",
    "\n",
    "    except IndexError as e:\n",
    "        print(f\"IndexError occurred: {e}\")\n",
    "\n",
    "    except KeyError as e:\n",
    "        print(f\"KeyError occurred: {e}\")\n",
    "\n",
    "if __name__ == \"__main__\":\n",
    "    handle_errors()\n"
   ]
  },
  {
   "cell_type": "code",
   "execution_count": null,
   "id": "03bad599-716e-4317-9ba9-9772677be18a",
   "metadata": {},
   "outputs": [],
   "source": [
    "# Q-20 How would you open a file and read its contents using a context manager in Python?\n",
    "\n",
    "# Using a context manager to open and read a file\n",
    "file_path = 'example.txt'  # Replace with your file path\n",
    "\n",
    "try:\n",
    "    # Open the file using the 'with' statement\n",
    "    with open(file_path, 'r') as file:\n",
    "        # Read the contents of the file\n",
    "        file_contents = file.read()\n",
    "        \n",
    "        # Print the contents of the file\n",
    "        print(file_contents)\n",
    "        \n",
    "except FileNotFoundError:\n",
    "    print(f\"The file '{file_path}' was not found.\")\n",
    "except Exception as e:\n",
    "    print(f\"An error occurred: {e}\")\n"
   ]
  },
  {
   "cell_type": "code",
   "execution_count": null,
   "id": "4c7e1d21-9b41-48e9-8184-51abdedc8d80",
   "metadata": {},
   "outputs": [],
   "source": [
    "# Q-21 Write a Python program that reads a file and prints the number of occurrences of a specific word.\n",
    "\n",
    "def count_word_occurrences(file_path, target_word):\n",
    "    try:\n",
    "        # Open the file using a context manager\n",
    "        with open(file_path, 'r') as file:\n",
    "            # Read the file content\n",
    "            file_contents = file.read()\n",
    "\n",
    "            # Split the file contents into words and count the occurrences of the target word\n",
    "            word_count = file_contents.lower().split().count(target_word.lower())\n",
    "        \n",
    "        # Print the result\n",
    "        print(f\"The word '{target_word}' occurs {word_count} times in the file.\")\n",
    "    \n",
    "    except FileNotFoundError:\n",
    "        print(f\"The file '{file_path}' was not found.\")\n",
    "    except Exception as e:\n",
    "        print(f\"An error occurred: {e}\")\n",
    "\n",
    "# Example usage:\n",
    "file_path = 'example.txt'  # Replace with your file path\n",
    "target_word = 'python'  # Replace with the word you want to count\n",
    "count_word_occurrences(file_path, target_word)\n"
   ]
  },
  {
   "cell_type": "code",
   "execution_count": null,
   "id": "ea78b514-610e-45b7-8e4a-0dfaa6bbe14d",
   "metadata": {},
   "outputs": [],
   "source": [
    "# Q-22 How can you check if a file is empty before attempting to read its contents?\n",
    "\n",
    "import os\n",
    "\n",
    "def check_if_file_is_empty(file_path):\n",
    "    try:\n",
    "        # Check if the file exists and get its size\n",
    "        if os.path.exists(file_path):\n",
    "            # Get the size of the file\n",
    "            file_size = os.stat(file_path).st_size\n",
    "            \n",
    "            # If the size is 0, the file is empty\n",
    "            if file_size == 0:\n",
    "                print(f\"The file '{file_path}' is empty.\")\n",
    "            else:\n",
    "                print(f\"The file '{file_path}' is not empty. Its size is {file_size} bytes.\")\n",
    "                \n",
    "                # Optionally, read the file if it's not empty\n",
    "                with open(file_path, 'r') as file:\n",
    "                    contents = file.read()\n",
    "                    print(\"File contents:\")\n",
    "                    print(contents)\n",
    "        else:\n",
    "            print(f\"The file '{file_path}' does not exist.\")\n",
    "    \n",
    "    except Exception as e:\n",
    "        print(f\"An error occurred: {e}\")\n",
    "\n",
    "# Example usage:\n",
    "file_path = 'example.txt'  # Replace with your file path\n",
    "check_if_file_is_empty(file_path)\n"
   ]
  },
  {
   "cell_type": "code",
   "execution_count": null,
   "id": "68880820-5bcd-49f3-9699-00c3e727b488",
   "metadata": {},
   "outputs": [],
   "source": [
    "# Q-23 Write a Python program that writes to a log file when an error occurs during file handling.\n",
    "\n",
    "import logging\n",
    "\n",
    "# Set up logging configuration\n",
    "logging.basicConfig(filename='file_handling_errors.log',\n",
    "                    level=logging.ERROR,  # Only log errors and above\n",
    "                    format='%(asctime)s - %(levelname)s - %(message)s')\n",
    "\n",
    "def read_file(file_path):\n",
    "    try:\n",
    "        # Trying to open the file and read it\n",
    "        with open(file_path, 'r') as file:\n",
    "            content = file.read()\n",
    "            print(content)  # Print file contents if no error occurs\n",
    "    except FileNotFoundError:\n",
    "        logging.error(f\"File '{file_path}' not found.\")\n",
    "        print(f\"Error: The file '{file_path}' was not found.\")\n",
    "    except PermissionError:\n",
    "        logging.error(f\"Permission denied to read the file '{file_path}'.\")\n",
    "        print(f\"Error: Permission denied to read the file '{file_path}'.\")\n",
    "    except Exception as e:\n",
    "        logging.error(f\"An unexpected error occurred while handling the file '{file_path}': {e}\")\n",
    "        print(f\"An unexpected error occurred: {e}\")\n",
    "\n",
    "def write_file(file_path, content):\n",
    "    try:\n",
    "        # Trying to open the file and write content to it\n",
    "        with open(file_path, 'w') as file:\n",
    "            file.write(content)\n",
    "            print(f\"Content written to '{file_path}' successfully.\")\n",
    "    except PermissionError:\n",
    "        logging.error(f\"Permission denied to write to the file '{file_path}'.\")\n",
    "        print(f\"Error: Permission denied to write to the file '{file_path}'.\")\n",
    "    except Exception as e:\n",
    "        logging.error(f\"An unexpected error occurred while writing to the file '{file_path}': {e}\")\n",
    "        print(f\"An unexpected error occurred: {e}\")\n",
    "\n",
    "# Example usage:\n",
    "\n",
    "# Attempt to read a non-existent file\n",
    "read_file('non_existent_file.txt')\n",
    "\n",
    "# Attempt to write to a file (for example, trying to write to a read-only file)\n",
    "write_file('/path/to/readonly_file.txt', 'Some content')\n"
   ]
  }
 ],
 "metadata": {
  "kernelspec": {
   "display_name": "Python [conda env:base] *",
   "language": "python",
   "name": "conda-base-py"
  },
  "language_info": {
   "codemirror_mode": {
    "name": "ipython",
    "version": 3
   },
   "file_extension": ".py",
   "mimetype": "text/x-python",
   "name": "python",
   "nbconvert_exporter": "python",
   "pygments_lexer": "ipython3",
   "version": "3.12.7"
  }
 },
 "nbformat": 4,
 "nbformat_minor": 5
}
